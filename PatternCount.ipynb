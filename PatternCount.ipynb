{
  "nbformat": 4,
  "nbformat_minor": 0,
  "metadata": {
    "colab": {
      "name": "PatternCount.ipynb",
      "provenance": [],
      "collapsed_sections": [],
      "authorship_tag": "ABX9TyPOKZrP4PVmOExW+jwgNzl8",
      "include_colab_link": true
    },
    "kernelspec": {
      "name": "python3",
      "display_name": "Python 3"
    }
  },
  "cells": [
    {
      "cell_type": "markdown",
      "metadata": {
        "id": "view-in-github",
        "colab_type": "text"
      },
      "source": [
        "<a href=\"https://colab.research.google.com/github/manufy/Finding-Hidden-Messages-in-DNA-Bioinformatics-I-/blob/master/PatternCount.ipynb\" target=\"_parent\"><img src=\"https://colab.research.google.com/assets/colab-badge.svg\" alt=\"Open In Colab\"/></a>"
      ]
    },
    {
      "cell_type": "code",
      "metadata": {
        "id": "VaSfeTE9aEuq",
        "colab_type": "code",
        "colab": {}
      },
      "source": [
        "import os\n",
        "import re\n",
        "\n"
      ],
      "execution_count": 0,
      "outputs": []
    },
    {
      "cell_type": "code",
      "metadata": {
        "id": "mGZqHtcWkJQp",
        "colab_type": "code",
        "colab": {}
      },
      "source": [
        "def count(text,pattern):\n",
        "\tcount = 0\n",
        "\tfor i in range(len(text) - len(pattern) + 1):\n",
        "\t\tif text[i:i+len(pattern)] == pattern:\n",
        "\t\t\tcount += 1\n",
        "\treturn count\n",
        "\n"
      ],
      "execution_count": 0,
      "outputs": []
    },
    {
      "cell_type": "code",
      "metadata": {
        "id": "N_Oq46BFkTVB",
        "colab_type": "code",
        "colab": {
          "base_uri": "https://localhost:8080/",
          "height": 34
        },
        "outputId": "68076262-0f06-497e-f5a5-9ce3add7d2df"
      },
      "source": [
        "dna=\"TACCTCGGACCTCGGATACCTCGGCACCTCGGTACGGACCTCGGACCTCGGACCTCGGGAAACCTCGGGAACCTCGGTTACCTCGGTGTATACCTCGGTCATAACCTCGGAGAGACCTCGGTATACCTCGGCGCTACTTAACCTCGGACCTCGGGCTACATTACCTCGGAACCTCGGACCTCGGGCTACCTCGGGCACCTCGGACCTCGGTTGACTCACCTCGGGACCTCGGACCTCGGTCACCTCGGGAGGACATAACCTCGGACCTCGGACCTCGGGACCTCGGAACCTCGGTACCTCGGGACCTCGGCACCTCGGCAAGGACCTCGGGTGTACCTCGGGACTACCTCGGACCTCGGTATACCTCGGACCTCGGACCTCGGACCTCGGTGTATACTGTGACCTCGGGAGTACCTCGGACACCTCGGTCGAATATTTATTGATTACCTCGGCACCTCGGACATTCAGACCTCGGCGGTTAACCTCGGGACCTCGGATACCTCGGACCTCGGCACCTCGGTCTCGGGTTGGGCGACCACCGAACCTCGGTATTTACCTCGGAACCTCGGACCTCGGACCTCGGGTTTTACCTCGGAACCTCGGGTCACCGGGTACCTCGGCGACCTCGGTTCCCCCACCTCGGTGCCATTGACCTCGGGTCACCTCGGCTCCACCTCGGCGTCACCTCGGCCCAACCTCGGCCCTACCTCGGTCTCCAACCTCGGACCTCGGTTATACCTCGGATACCTCGGTTGAACCTCGGACCTCGGTACCTCGGACCTCGGCACGCTCAGACCTCGGATGACCTCGGACCTCGGTAACCTCGGAAAACCTCGGGTGCACCTCGGAAACCTCGGCACCTCGGAACCTCGGGACCTCGGAACACCTCGGGAACCTCGGACCTCGGACCTCGGGAAACCTCGGACCTCGGGACCTCGGACACCTCGGAAAACCTCGGGCGACCTCGGTAACCTCGGACCTCGGAGGACACCTCGGTTCACCTCGGCGACCTCGGACCTCGGACCTCGGACCTCGGACCTCGGACCTCGG\"\n",
        "pattern=\"ACCTCGGAC\"\n",
        "answer = count(dna,pattern)\n",
        "\n",
        "print(answer)"
      ],
      "execution_count": 10,
      "outputs": [
        {
          "output_type": "stream",
          "text": [
            "32\n"
          ],
          "name": "stdout"
        }
      ]
    }
  ]
}