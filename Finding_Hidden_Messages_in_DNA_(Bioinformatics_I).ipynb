{
  "nbformat": 4,
  "nbformat_minor": 0,
  "metadata": {
    "colab": {
      "name": "Finding Hidden Messages in DNA (Bioinformatics I).ipynb",
      "provenance": [],
      "collapsed_sections": [],
      "authorship_tag": "ABX9TyOrnYQcyDvw79M3guXufJnI",
      "include_colab_link": true
    },
    "kernelspec": {
      "name": "python3",
      "display_name": "Python 3"
    }
  },
  "cells": [
    {
      "cell_type": "markdown",
      "metadata": {
        "id": "view-in-github",
        "colab_type": "text"
      },
      "source": [
        "<a href=\"https://colab.research.google.com/github/manufy/Finding-Hidden-Messages-in-DNA-Bioinformatics-I-/blob/master/Finding_Hidden_Messages_in_DNA_(Bioinformatics_I).ipynb\" target=\"_parent\"><img src=\"https://colab.research.google.com/assets/colab-badge.svg\" alt=\"Open In Colab\"/></a>"
      ]
    },
    {
      "cell_type": "code",
      "metadata": {
        "id": "VaSfeTE9aEuq",
        "colab_type": "code",
        "colab": {}
      },
      "source": [
        "import os\n",
        "import re\n",
        "\n"
      ],
      "execution_count": 0,
      "outputs": []
    },
    {
      "cell_type": "markdown",
      "metadata": {
        "id": "tPlWrpzPnRZa",
        "colab_type": "text"
      },
      "source": [
        "**Exercise 1**\n",
        "\n",
        "Code Challenge: Implement PatternCount (reproduced below).\n",
        "     Input: Strings Text and Pattern.\n",
        "     Output: Count(Text, Pattern).\n",
        "\n",
        "    PatternCount(Text, Pattern)\n",
        "        count ← 0\n",
        "        for i ← 0 to |Text| − |Pattern|\n",
        "            if Text(i, |Pattern|) = Pattern\n",
        "                count ← count + 1\n",
        "        return count\n"
      ]
    },
    {
      "cell_type": "code",
      "metadata": {
        "id": "mGZqHtcWkJQp",
        "colab_type": "code",
        "colab": {}
      },
      "source": [
        "def PatternCount(text,pattern):\n",
        "\tcount = 0\n",
        "\tfor i in range(len(text) - len(pattern) + 1):\n",
        "\t\tif text[i:i+len(pattern)] == pattern:\n",
        "\t\t\tcount += 1\n",
        "\treturn count\n",
        "\n"
      ],
      "execution_count": 0,
      "outputs": []
    },
    {
      "cell_type": "code",
      "metadata": {
        "id": "N_Oq46BFkTVB",
        "colab_type": "code",
        "colab": {
          "base_uri": "https://localhost:8080/",
          "height": 34
        },
        "outputId": "5126f803-e592-4a8b-9e24-de171569c86a"
      },
      "source": [
        "dna=\"TACCTCGGACCTCGGATACCTCGGCACCTCGGTACGGACCTCGGACCTCGGACCTCGGGAAACCTCGGGAACCTCGGTTACCTCGGTGTATACCTCGGTCATAACCTCGGAGAGACCTCGGTATACCTCGGCGCTACTTAACCTCGGACCTCGGGCTACATTACCTCGGAACCTCGGACCTCGGGCTACCTCGGGCACCTCGGACCTCGGTTGACTCACCTCGGGACCTCGGACCTCGGTCACCTCGGGAGGACATAACCTCGGACCTCGGACCTCGGGACCTCGGAACCTCGGTACCTCGGGACCTCGGCACCTCGGCAAGGACCTCGGGTGTACCTCGGGACTACCTCGGACCTCGGTATACCTCGGACCTCGGACCTCGGACCTCGGTGTATACTGTGACCTCGGGAGTACCTCGGACACCTCGGTCGAATATTTATTGATTACCTCGGCACCTCGGACATTCAGACCTCGGCGGTTAACCTCGGGACCTCGGATACCTCGGACCTCGGCACCTCGGTCTCGGGTTGGGCGACCACCGAACCTCGGTATTTACCTCGGAACCTCGGACCTCGGACCTCGGGTTTTACCTCGGAACCTCGGGTCACCGGGTACCTCGGCGACCTCGGTTCCCCCACCTCGGTGCCATTGACCTCGGGTCACCTCGGCTCCACCTCGGCGTCACCTCGGCCCAACCTCGGCCCTACCTCGGTCTCCAACCTCGGACCTCGGTTATACCTCGGATACCTCGGTTGAACCTCGGACCTCGGTACCTCGGACCTCGGCACGCTCAGACCTCGGATGACCTCGGACCTCGGTAACCTCGGAAAACCTCGGGTGCACCTCGGAAACCTCGGCACCTCGGAACCTCGGGACCTCGGAACACCTCGGGAACCTCGGACCTCGGACCTCGGGAAACCTCGGACCTCGGGACCTCGGACACCTCGGAAAACCTCGGGCGACCTCGGTAACCTCGGACCTCGGAGGACACCTCGGTTCACCTCGGCGACCTCGGACCTCGGACCTCGGACCTCGGACCTCGGACCTCGG\"\n",
        "pattern=\"ACCTCGGAC\"\n",
        "answer = PatternCount(dna,pattern)\n",
        "\n",
        "print(answer)"
      ],
      "execution_count": 13,
      "outputs": [
        {
          "output_type": "stream",
          "text": [
            "32\n"
          ],
          "name": "stdout"
        }
      ]
    },
    {
      "cell_type": "markdown",
      "metadata": {
        "id": "4nBkIRD8m-kg",
        "colab_type": "text"
      },
      "source": [
        "**Exercise 2**\n",
        "\n",
        "A straightforward algorithm for finding the most frequent k-mers in a string Text checks all k-mers appearing in this string (there are |Text| − k + 1 such k-mers) and then computes how many times each k-mer appears in Text. To implement this algorithm, called FrequentWords, we will need to generate an array Count, where Count(i) stores Count(Text, Pattern) for Pattern = Text(i, k) (see figure below).\n",
        "\n",
        "![texto alternativo](https://ucarecdn.com/8367f24c-c989-4ad1-b5a4-9ab2dafa3a10/)\n",
        "\n",
        "Figure: The array Count for Text = ACTGACTCCCACCCC and k = 3. For example, Count(0) = Count(4) = 2 because ACT (shown in boldface) appears twice in Text."
      ]
    },
    {
      "cell_type": "code",
      "metadata": {
        "id": "AUduMLlKnPlb",
        "colab_type": "code",
        "colab": {}
      },
      "source": [
        "def count(text,pattern):\n",
        "\tcount = 0\n",
        "\tfor i in range(len(text) - len(pattern) + 1):\n",
        "\t\tif text[i:i+len(pattern)] == pattern:\n",
        "\t\t\tcount += 1\n",
        "\treturn count\n",
        "\n",
        "def frequentwords(text , k):\n",
        "\tfreq_patterns = []\n",
        "\tcounts = []\n",
        "\tfor i in range(len(text) - k + 1):\n",
        "\t\tpattern = text[i:i+k]\n",
        "\t\tnum = count(text,pattern)\n",
        "\t\tcounts.append(num)\n",
        "\tmaxcount = max(counts)\n",
        "\tfor i in range(len(text) - k + 1):\n",
        "\t\tif counts[i] == maxcount:\n",
        "\t\t\tfreq_patterns.append(text[i:i+k])\n",
        "\tfreq_patterns = set(freq_patterns)\n",
        "\treturn list(freq_patterns)\n"
      ],
      "execution_count": 0,
      "outputs": []
    },
    {
      "cell_type": "code",
      "metadata": {
        "id": "2fED6cEWny1x",
        "colab_type": "code",
        "colab": {
          "base_uri": "https://localhost:8080/",
          "height": 34
        },
        "outputId": "2ca43725-ab53-4f90-f9d9-87958653b3e0"
      },
      "source": [
        "dna=\"GCTTCGCACCCTGTACTTGCTTCGCACCCACGTTCACTGTACTTTCCATGGTTATCCATGGTTACTGTACTTGCTTCGCACCAGTTACAGAACACGTTCATCCATGGTTACACGTTCACTGTACTTGCTTCGCACCAGTTACAGAAGCTTCGCACCTCCATGGTTACACGTTCACTGTACTTGCTTCGCACCTCCATGGTTACTGTACTTAGTTACAGAACTGTACTTCTGTACTTAGTTACAGAACTGTACTTGCTTCGCACCAGTTACAGAATCCATGGTTATCCATGGTTAGCTTCGCACCAGTTACAGAAAGTTACAGAATCCATGGTTACACGTTCAAGTTACAGAACACGTTCACACGTTCATCCATGGTTACACGTTCAGCTTCGCACCCACGTTCAAGTTACAGAATCCATGGTTAGCTTCGCACCAGTTACAGAACTGTACTTAGTTACAGAACACGTTCATCCATGGTTACACGTTCACACGTTCAAGTTACAGAATCCATGGTTACTGTACTTAGTTACAGAATCCATGGTTAGCTTCGCACCAGTTACAGAAGCTTCGCACCCTGTACTTCACGTTCAGCTTCGCACCGCTTCGCACCTCCATGGTTATCCATGGTTACACGTTCACTGTACTTAGTTACAGAAAGTTACAGAACACGTTCACACGTTCACACGTTCACACGTTCATCCATGGTTAGCTTCGCACCGCTTCGCACCCTGTACTTCTGTACTTGCTTCGCACCAGTTACAGAACTGTACTTGCTTCGCACCGCTTCGCACCAGTTACAGAATCCATGGTTACTGTACTTTCCATGGTTACTGTACTTAGTTACAGAACACGTTCAAGTTACAGAACTGTACTTCTGTACTTCACGTTCACTGTACTTAGTTACAGAATCCATGGTTA\"\n",
        "k=11\n",
        "ans = frequentwords(dna,k)\n",
        "print(\" \".join(str(x) for x in list(ans)))\t"
      ],
      "execution_count": 17,
      "outputs": [
        {
          "output_type": "stream",
          "text": [
            "ATCCATGGTTA\n"
          ],
          "name": "stdout"
        }
      ]
    },
    {
      "cell_type": "markdown",
      "metadata": {
        "id": "FAtqXGuEo5o0",
        "colab_type": "text"
      },
      "source": [
        "**Exercise 3**\n",
        "\n",
        "Given a nucleotide p, we denote its complementary nucleotide as p*. The reverse complement of a string Pattern = p1 … pn is the string Patternrc = pn* … p1* formed by taking the complement of each nucleotide in Pattern, then reversing the resulting string. We will need the solution to the following problem throughout this chapter:\n",
        "\n",
        "Reverse Complement Problem: Find the reverse complement of a DNA string.\n",
        "\n",
        "Input: A DNA string Pattern.\n",
        "Output: Patternrc , the reverse complement of Pattern."
      ]
    },
    {
      "cell_type": "code",
      "metadata": {
        "id": "FW8hgXpKo4I0",
        "colab_type": "code",
        "colab": {}
      },
      "source": [
        ""
      ],
      "execution_count": 0,
      "outputs": []
    }
  ]
}